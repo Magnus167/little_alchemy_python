{
 "cells": [
  {
   "cell_type": "code",
   "execution_count": 1,
   "metadata": {},
   "outputs": [],
   "source": [
    "def load_csv(filename):\n",
    "    with open(filename, 'r', encoding='utf-8-sig') as f:\n",
    "        csv_list = [row.strip().split(',') for row in f.readlines()]\n",
    "    return csv_list\n",
    "\n",
    "def parse_row_as_element(row):\n",
    "    name = row[0].lower()\n",
    "    prevElemCombos = row[1].lower().split(' / ')\n",
    "    prevElemCombos = [p.lower().split('+') for p in prevElemCombos]\n",
    "    if prevElemCombos == [['available from start.']]:\n",
    "        prevElemCombos = [['BASE_ELEMENT']]\n",
    "    # return Element(name, prevElemCombos)\n",
    "    return {name : {'name': name, 'prevElemCombos': prevElemCombos, 'nextPossibleElements': []}}\n",
    "\n",
    "def printx(listx):\n",
    "    for x in listx:\n",
    "        print(x)\n",
    "\n",
    "def create_elements(csv_list):\n",
    "    elements_arr = [parse_row_as_element(row) for row in csv_list]\n",
    "    elements = elements_arr[0]\n",
    "    for e_arr in elements_arr[1:]:\n",
    "        elements.update(e_arr)\n",
    "    return elements"
   ]
  },
  {
   "cell_type": "code",
   "execution_count": 2,
   "metadata": {},
   "outputs": [],
   "source": [
    "filename = 'combinations_list_orig.csv'\n",
    "csv_list = load_csv(filename)\n",
    "elements = create_elements(csv_list)\n",
    "# print(elements)"
   ]
  },
  {
   "cell_type": "code",
   "execution_count": 3,
   "metadata": {},
   "outputs": [],
   "source": [
    "def create_tree(elements):\n",
    "    elem_names = list(elements.keys())\n",
    "    elements['BASE_ELEMENT'] = {'name': 'BASE_ELEMENTS', 'prevElemCombos': [], 'nextPossibleElements': []}\n",
    "    for elem in elem_names:\n",
    "        for prevElemCombo in elements[elem]['prevElemCombos']:\n",
    "            for prevElem in prevElemCombo:\n",
    "                try:\n",
    "                    elements[prevElem]['nextPossibleElements'].append(elem)\n",
    "                except KeyError:\n",
    "                    elements[prevElem] = {'name': prevElem, 'prevElemCombos': [], 'nextPossibleElements': [elem]}         \n",
    "\n",
    "    return elements \n",
    "\n",
    "elements = create_tree(elements)"
   ]
  },
  {
   "cell_type": "code",
   "execution_count": 4,
   "metadata": {},
   "outputs": [
    {
     "name": "stdout",
     "output_type": "stream",
     "text": [
      "{'name': 'BASE_ELEMENTS', 'prevElemCombos': [], 'nextPossibleElements': ['air', 'earth', 'fire', 'water']}\n"
     ]
    }
   ],
   "source": [
    "print(elements['BASE_ELEMENT'])"
   ]
  },
  {
   "cell_type": "code",
   "execution_count": 5,
   "metadata": {},
   "outputs": [],
   "source": [
    "from functools import lru_cache\n",
    "cache = lru_cache(maxsize=None)\n",
    "\n",
    "def get_possible_count(element, elements_subset, elements, count_level=1):\n",
    "\n",
    "    count = 0\n",
    "    elements_subset.append(element)\n",
    "    count += len(get_possible_elements(elements_subset, elements, count_level))\n",
    "    elements_subset.pop()\n",
    "    return count\n",
    "\n",
    "def get_possible_elements(elements_subset, elements, count_level=1):\n",
    "    import itertools\n",
    "    results = []\n",
    "    for elem in elements:\n",
    "        for prevElemCombo in elements[elem]['prevElemCombos']:\n",
    "            if len(set(prevElemCombo) & (set(elements_subset))) == len(prevElemCombo):\n",
    "                results.append([prevElemCombo, elem])\n",
    "    \n",
    "    if count_level <0:\n",
    "        ''' shuffle and return result'''\n",
    "        import random\n",
    "        random.shuffle(results)\n",
    "        return results\n",
    "\n",
    "    if count_level == 0:\n",
    "        for r in results:\n",
    "            r.append(1)\n",
    "    else:\n",
    "        for r in results:\n",
    "            r.append(get_possible_count(r[1], elements_subset, elements, count_level-1))\n",
    "\n",
    "    ''' sort results by count '''\n",
    "    results.sort(key=lambda x: x[-1], reverse=True)\n",
    "    return results\n",
    "        \n",
    "\n",
    "    "
   ]
  },
  {
   "cell_type": "code",
   "execution_count": 6,
   "metadata": {},
   "outputs": [],
   "source": [
    "starting_elements = elements['BASE_ELEMENT']['nextPossibleElements']\n",
    " \n",
    "possible_elements = get_possible_elements(starting_elements, elements, count_level=1)"
   ]
  },
  {
   "cell_type": "code",
   "execution_count": 7,
   "metadata": {},
   "outputs": [
    {
     "name": "stdout",
     "output_type": "stream",
     "text": [
      "[['air', 'fire'], 'energy', 9]\n",
      "[['earth', 'fire'], 'lava', 9]\n",
      "[['water', 'fire'], 'steam', 8]\n",
      "[['earth', 'air'], 'dust', 7]\n",
      "[['water', 'earth'], 'mud', 7]\n",
      "[['water', 'air'], 'rain', 7]\n"
     ]
    }
   ],
   "source": [
    "printx(possible_elements)"
   ]
  },
  {
   "cell_type": "code",
   "execution_count": 8,
   "metadata": {},
   "outputs": [],
   "source": [
    "new_elements = starting_elements"
   ]
  },
  {
   "cell_type": "code",
   "execution_count": 9,
   "metadata": {},
   "outputs": [
    {
     "name": "stderr",
     "output_type": "stream",
     "text": [
      "100%|██████████| 70/70 [00:05<00:00, 12.23it/s]"
     ]
    },
    {
     "name": "stdout",
     "output_type": "stream",
     "text": [
      "[['air', 'fire'], 'energy', 9]\n",
      "[['earth', 'fire'], 'lava', 12]\n",
      "[['water', 'fire'], 'steam', 14]\n",
      "[['air', 'steam'], 'cloud', 17]\n",
      "[['air', 'cloud'], 'sky', 19]\n",
      "[['air', 'lava'], 'stone', 22]\n",
      "[['fire', 'stone'], 'metal', 26]\n",
      "[['air', 'stone'], 'sand', 29]\n",
      "[['fire', 'sand'], 'glass', 35]\n",
      "[['metal', 'energy'], 'electricity', 39]\n",
      "[['sand', 'electricity'], 'glass']\n",
      "[['sand', 'energy'], 'sandstorm']\n",
      "[['stone', 'sand'], 'sandstone']\n",
      "[['air', 'fire'], 'energy']\n",
      "[['energy', 'cloud'], 'storm']\n",
      "[['earth', 'energy'], 'earthquake']\n",
      "[['cloud', 'electricity'], 'storm']\n",
      "[['earth', 'energy'], 'earthquake']\n",
      "[['electricity', 'metal'], 'wire']\n",
      "[['air', 'lava'], 'stone']\n",
      "[['fire', 'stone'], 'metal']\n",
      "[['glass', 'metal'], 'glasses']\n",
      "[['air', 'steam'], 'cloud']\n",
      "[['sky', 'earth'], 'horizon']\n",
      "[['air', 'energy'], 'wind']\n",
      "[['glass', 'metal'], 'glasses']\n",
      "[['air', 'metal'], 'rust']\n",
      "[['earth', 'energy'], 'earthquake']\n",
      "[['water', 'fire'], 'steam']\n",
      "[['earthquake', 'earth'], 'mountain']\n",
      "[['metal', 'stone'], 'blade']\n",
      "[['lava', 'water'], 'obsidian']\n",
      "[['energy', 'cloud'], 'storm']\n",
      "[['fire', 'sand'], 'glass']\n",
      "[['stone', 'sand'], 'sandstone']\n",
      "[['glasses', 'water'], 'swim goggles']\n",
      "[['earth', 'energy'], 'earthquake']\n",
      "[['lava', 'earth'], 'volcano']\n",
      "[['lava', 'water'], 'obsidian']\n",
      "[['lava', 'earth'], 'volcano']\n",
      "[['sand', 'wind'], 'dune']\n",
      "[['lava', 'water'], 'obsidian']\n",
      "[['volcano', 'energy'], 'ash']\n",
      "[['blade', 'electricity'], 'blender']\n",
      "[['wind', 'energy'], 'hurricane']\n",
      "[['air', 'fire'], 'energy']\n",
      "[['blade', 'metal'], 'sword']\n",
      "[['volcano', 'energy'], 'eruption']\n",
      "[['electricity', 'glass'], 'light bulb']\n",
      "[['fire', 'mountain'], 'volcano']\n",
      "[['volcano', 'energy'], 'ash']\n",
      "[['water', 'energy'], 'steam']\n",
      "[['energy', 'sword'], 'lightsaber']\n",
      "[['metal', 'energy'], 'electricity']\n",
      "[['water', 'earth'], 'mud']\n",
      "[['lava', 'earth'], 'volcano']\n",
      "[['cloud', 'electricity'], 'storm']\n",
      "[['water', 'earth'], 'mud']\n",
      "[['sand', 'electricity'], 'glass']\n",
      "[['sword', 'stone'], 'excalibur']\n",
      "[['stone', 'sand'], 'sandstone']\n",
      "[['earth', 'air'], 'dust']\n",
      "[['steam', 'earth'], 'geyser']\n",
      "[['water', 'air'], 'rain']\n",
      "[['fire', 'sky'], 'sun']\n",
      "[['earth', 'air'], 'dust']\n",
      "[['mud', 'sun'], 'brick']\n",
      "[['earthquake', 'earth'], 'mountain']\n",
      "[['lava', 'mountain'], 'volcano']\n",
      "[['electricity', 'glass'], 'light bulb']\n",
      "air\n",
      "earth\n",
      "fire\n",
      "water\n",
      "energy\n",
      "lava\n",
      "steam\n",
      "cloud\n",
      "sky\n",
      "stone\n",
      "metal\n",
      "sand\n",
      "glass\n",
      "electricity\n",
      "glass\n",
      "sandstorm\n",
      "sandstone\n",
      "energy\n",
      "storm\n",
      "earthquake\n",
      "storm\n",
      "earthquake\n",
      "wire\n",
      "stone\n",
      "metal\n",
      "glasses\n",
      "cloud\n",
      "horizon\n",
      "wind\n",
      "glasses\n",
      "rust\n",
      "earthquake\n",
      "steam\n",
      "mountain\n",
      "blade\n",
      "obsidian\n",
      "storm\n",
      "glass\n",
      "sandstone\n",
      "swim goggles\n",
      "earthquake\n",
      "volcano\n",
      "obsidian\n",
      "volcano\n",
      "dune\n",
      "obsidian\n",
      "ash\n",
      "blender\n",
      "hurricane\n",
      "energy\n",
      "sword\n",
      "eruption\n",
      "light bulb\n",
      "volcano\n",
      "ash\n",
      "steam\n",
      "lightsaber\n",
      "electricity\n",
      "mud\n",
      "volcano\n",
      "storm\n",
      "mud\n",
      "glass\n",
      "excalibur\n",
      "sandstone\n",
      "dust\n",
      "geyser\n",
      "rain\n",
      "sun\n",
      "dust\n",
      "brick\n",
      "mountain\n",
      "volcano\n",
      "light bulb\n"
     ]
    },
    {
     "name": "stderr",
     "output_type": "stream",
     "text": [
      "\n"
     ]
    }
   ],
   "source": [
    "moves_list = []\n",
    "from tqdm import tqdm\n",
    "\n",
    "for I in tqdm(range(70)):\n",
    "    current_elements = new_elements\n",
    "    possible_elements_arr = get_possible_elements(current_elements, elements, 2 if I < 10 else -1)\n",
    "    moves_list.append(possible_elements_arr[0])\n",
    "    possible_elements = [elemx[1] for elemx in possible_elements_arr]\n",
    "    new_elements = current_elements+[possible_elements[0]]\n",
    "printx(moves_list)\n",
    "printx(new_elements)"
   ]
  }
 ],
 "metadata": {
  "interpreter": {
   "hash": "82d133e37cc4ce819137925968dd7cc5b4ce9fca12643606578bb14597479d96"
  },
  "kernelspec": {
   "display_name": "Python 3.9.12 ('jarphys2')",
   "language": "python",
   "name": "python3"
  },
  "language_info": {
   "codemirror_mode": {
    "name": "ipython",
    "version": 3
   },
   "file_extension": ".py",
   "mimetype": "text/x-python",
   "name": "python",
   "nbconvert_exporter": "python",
   "pygments_lexer": "ipython3",
   "version": "3.9.12"
  },
  "orig_nbformat": 4
 },
 "nbformat": 4,
 "nbformat_minor": 2
}
