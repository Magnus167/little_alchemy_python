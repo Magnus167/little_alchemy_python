{
 "cells": [
  {
   "cell_type": "code",
   "execution_count": null,
   "metadata": {},
   "outputs": [],
   "source": [
    "def load_csv(filename):\n",
    "    with open(filename, 'r', encoding='utf-8-sig') as f:\n",
    "        csv_list = [row.strip().split(',') for row in f.readlines()]\n",
    "    return csv_list\n",
    "\n",
    "def printx(listx):\n",
    "    for x in listx:\n",
    "        print(x)\n",
    "\n",
    "def parse_row(row):\n",
    "    name = row[0].lower()\n",
    "    prevElemCombos = row[1].lower().split(' / ')\n",
    "    prevElemCombos = [p.lower().split('+') for p in prevElemCombos]\n",
    "    if prevElemCombos == [['available from start.']]:\n",
    "        prevElemCombos = [['BASE_ELEMENT']]\n",
    "    prevElemCombos.sort()\n",
    "    for p in prevElemCombos:\n",
    "        p.sort()\n",
    "    return [prevElemCombo + [name] for prevElemCombo in prevElemCombos]\n",
    "\n",
    "def parse_rows(csv_list):\n",
    "    r = []\n",
    "    for row in csv_list:\n",
    "        r.extend(parse_row(row))\n",
    "    return r\n",
    "    "
   ]
  },
  {
   "cell_type": "code",
   "execution_count": null,
   "metadata": {},
   "outputs": [],
   "source": [
    "import pandas as pd\n",
    "from tqdm import tqdm\n",
    "\n",
    "def create_elements_df(csv_list):\n",
    "    r = parse_rows(csv_list)\n",
    "    df = pd.DataFrame(r, columns=['elem1','elem2', 'result'])\n",
    "    base_elements = get_base_elements(csv_list)\n",
    "    return df[~df.index.isin(base_elements.index)]\n",
    "\n",
    "\n",
    "def get_base_elements(csv_list):\n",
    "    df = pd.DataFrame(parse_rows(csv_list), columns=['elem1','elem2', 'result'])\n",
    "    return df[df['elem1']=='BASE_ELEMENT']\n",
    "\n",
    "def get_elements_list(dfs):\n",
    "    r = []\n",
    "    for col in list(dfs.columns):\n",
    "        r.extend(dfs[col].tolist())\n",
    "    return list(set(r))"
   ]
  },
  {
   "cell_type": "code",
   "execution_count": null,
   "metadata": {},
   "outputs": [],
   "source": [
    "elemsFilename = 'elements_data.csv'\n",
    "csv_list = load_csv(elemsFilename)\n",
    "\n",
    "dfs = create_elements_df(csv_list)\n",
    "base_elements = get_base_elements(csv_list)['elem2'].tolist()\n",
    "all_elements = get_elements_list(dfs) + base_elements\n",
    "all_elements_str = ','.join(all_elements)\n",
    "\n",
    "combos = parse_rows(csv_list)\n",
    "combos_str = ';'.join([','.join(c) for c in combos])"
   ]
  },
  {
   "cell_type": "code",
   "execution_count": null,
   "metadata": {},
   "outputs": [],
   "source": [
    "import numpy as np\n",
    "\n",
    "def create_elements_array(all_elements, combos):\n",
    "    elements_array = np.ones((len(combos), len(combos[0]))) * -1\n",
    "    for i, combo in enumerate(combos):\n",
    "        elements_array[all_elements.index(combo[0]), all_elements.index(combo[1])] = all_elements.index(combo[2])\n",
    "    return elements_array\n",
    "\n"
   ]
  }
 ],
 "metadata": {
  "language_info": {
   "name": "python"
  },
  "orig_nbformat": 4
 },
 "nbformat": 4,
 "nbformat_minor": 2
}
