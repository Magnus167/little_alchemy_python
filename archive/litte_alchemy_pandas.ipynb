{
 "cells": [
  {
   "cell_type": "code",
   "execution_count": 1,
   "metadata": {},
   "outputs": [],
   "source": [
    "def printx(listx):\n",
    "    for x in listx:\n",
    "        print(x)\n",
    "\n",
    "def load_csv(filename):\n",
    "    with open(filename, 'r', encoding='utf-8-sig') as f:\n",
    "        csv_list = [row.strip().split(',') for row in f.readlines()]\n",
    "    return csv_list\n",
    "\n",
    "\n",
    "def parse_row(row):\n",
    "    name = row[0].lower()\n",
    "    prevElemCombos = row[1].lower().split(' / ')\n",
    "    prevElemCombos = [p.lower().split('+') for p in prevElemCombos]\n",
    "    if prevElemCombos == [['available from start.']]:\n",
    "        prevElemCombos = [['BASE_ELEMENT']]\n",
    "    # return Element(name, prevElemCombos)\n",
    "    prevElemCombos.sort()\n",
    "    for p in prevElemCombos:\n",
    "        p.sort()\n",
    "    return [prevElemCombo + [name] for prevElemCombo in prevElemCombos]\n",
    "\n",
    "def parse_rows(csv_list):\n",
    "    r = []\n",
    "    for row in csv_list:\n",
    "        r.extend(parse_row(row))\n",
    "    return r\n"
   ]
  },
  {
   "cell_type": "code",
   "execution_count": 2,
   "metadata": {},
   "outputs": [],
   "source": [
    "elemsFilename = 'combinations_list_orig.csv'\n",
    "csv_list = load_csv(elemsFilename)"
   ]
  },
  {
   "cell_type": "code",
   "execution_count": 3,
   "metadata": {},
   "outputs": [
    {
     "data": {
      "text/html": [
       "<div>\n",
       "<style scoped>\n",
       "    .dataframe tbody tr th:only-of-type {\n",
       "        vertical-align: middle;\n",
       "    }\n",
       "\n",
       "    .dataframe tbody tr th {\n",
       "        vertical-align: top;\n",
       "    }\n",
       "\n",
       "    .dataframe thead th {\n",
       "        text-align: right;\n",
       "    }\n",
       "</style>\n",
       "<table border=\"1\" class=\"dataframe\">\n",
       "  <thead>\n",
       "    <tr style=\"text-align: right;\">\n",
       "      <th></th>\n",
       "      <th>elem1</th>\n",
       "      <th>elem2</th>\n",
       "      <th>result</th>\n",
       "    </tr>\n",
       "  </thead>\n",
       "  <tbody>\n",
       "    <tr>\n",
       "      <th>0</th>\n",
       "      <td>rain</td>\n",
       "      <td>smog</td>\n",
       "      <td>acid rain</td>\n",
       "    </tr>\n",
       "    <tr>\n",
       "      <th>1</th>\n",
       "      <td>rain</td>\n",
       "      <td>smoke</td>\n",
       "      <td>acid rain</td>\n",
       "    </tr>\n",
       "    <tr>\n",
       "      <th>3</th>\n",
       "      <td>bird</td>\n",
       "      <td>metal</td>\n",
       "      <td>airplane</td>\n",
       "    </tr>\n",
       "    <tr>\n",
       "      <th>4</th>\n",
       "      <td>bird</td>\n",
       "      <td>steel</td>\n",
       "      <td>airplane</td>\n",
       "    </tr>\n",
       "    <tr>\n",
       "      <th>5</th>\n",
       "      <td>clock</td>\n",
       "      <td>sound</td>\n",
       "      <td>alarm clock</td>\n",
       "    </tr>\n",
       "  </tbody>\n",
       "</table>\n",
       "</div>"
      ],
      "text/plain": [
       "   elem1  elem2       result\n",
       "0   rain   smog    acid rain\n",
       "1   rain  smoke    acid rain\n",
       "3   bird  metal     airplane\n",
       "4   bird  steel     airplane\n",
       "5  clock  sound  alarm clock"
      ]
     },
     "execution_count": 3,
     "metadata": {},
     "output_type": "execute_result"
    }
   ],
   "source": [
    "import pandas as pd\n",
    "\n",
    "def create_elements_df(csv_list):\n",
    "    r = parse_rows(csv_list)\n",
    "    df = pd.DataFrame(r, columns=['elem1','elem2', 'result'])\n",
    "    base_elements = get_base_elements(csv_list)\n",
    "    return df[~df.index.isin(base_elements.index)]\n",
    "\n",
    "\n",
    "def get_base_elements(csv_list):\n",
    "    df = pd.DataFrame(parse_rows(csv_list), columns=['elem1','elem2', 'result'])\n",
    "    return df[df['elem1']=='BASE_ELEMENT']\n",
    "\n",
    "def get_elements_list(dfs):\n",
    "    r = []\n",
    "    for col in list(dfs.columns):\n",
    "        r.extend(dfs[col].tolist())\n",
    "    return list(set(r))\n",
    "\n",
    "\n",
    "dfs = create_elements_df(csv_list)\n",
    "dfs.head()"
   ]
  },
  {
   "cell_type": "code",
   "execution_count": 4,
   "metadata": {},
   "outputs": [
    {
     "data": {
      "text/plain": [
       "['air', 'earth', 'fire', 'water']"
      ]
     },
     "execution_count": 4,
     "metadata": {},
     "output_type": "execute_result"
    }
   ],
   "source": [
    "base_elements = get_base_elements(csv_list)['elem2'].tolist()"
   ]
  },
  {
   "cell_type": "code",
   "execution_count": 5,
   "metadata": {},
   "outputs": [
    {
     "data": {
      "text/plain": [
       "[['earth', 'fire'],\n",
       " ['fire', 'water'],\n",
       " ['earth', 'water'],\n",
       " ['air', 'earth'],\n",
       " ['air', 'water'],\n",
       " ['air', 'fire']]"
      ]
     },
     "execution_count": 5,
     "metadata": {},
     "output_type": "execute_result"
    }
   ],
   "source": [
    "def get_unique_current_combos(curr_elements, dfs):\n",
    "    possible_combos = [[elem1, elem2] for elem1 in curr_elements for elem2 in curr_elements if elem1 != elem2]\n",
    "    for i in range(len(possible_combos)):\n",
    "        possible_combos[i].sort()\n",
    "        possible_combos[i] = '+'.join(possible_combos[i])\n",
    "    possible_combos = list(set(possible_combos))\n",
    "    possible_combos = [p.split('+') for p in possible_combos]\n",
    "    return possible_combos\n",
    "  "
   ]
  },
  {
   "cell_type": "code",
   "execution_count": 6,
   "metadata": {},
   "outputs": [],
   "source": [
    "def get_elem_score(elem, dfs, levels=0):\n",
    "    dFilter = (dfs['elem1']==elem) | (dfs['elem2']==elem)\n",
    "    if levels == 0:\n",
    "        return sum(dFilter)\n",
    "    else:\n",
    "        next_possible_elements = dfs.loc[dFilter, 'result'].tolist()\n",
    "        return sum([get_elem_score(e, dfs, levels-1) for e in next_possible_elements])\n",
    "\n",
    "def get_next_possible_combos(curr_elements, dfs):\n",
    "    r = []\n",
    "    unique_combos = get_unique_current_combos(curr_elements, dfs)\n",
    "    for combo in unique_combos:\n",
    "        l = (dfs['elem1']==combo[0]) & (dfs['elem2']==combo[1])\n",
    "        if l.any():\n",
    "            r.append([dfs.loc[l, 'elem1'].tolist()[0], dfs.loc[l, 'elem2'].tolist()[0] , dfs.loc[l, 'result'].tolist()[0]])\n",
    "    return [x for x in r if x[-1] not in curr_elements]\n",
    "\n",
    "def get_next_possible_elements(curr_elements, dfs):\n",
    "    r = get_next_possible_combos(curr_elements, dfs)\n",
    "    return [x[-1] for x in r]\n"
   ]
  },
  {
   "cell_type": "code",
   "execution_count": 7,
   "metadata": {},
   "outputs": [],
   "source": [
    "from joblib import Parallel, delayed\n",
    "from tqdm import tqdm\n",
    "\n",
    "def get_next_best_move(curr_elements, dfs, levels=0):\n",
    "    next_possible_combos = get_next_possible_combos(curr_elements, dfs)\n",
    "    scores = [get_elem_score(e[-1], dfs, levels) for e in next_possible_combos]\n",
    "    return next_possible_combos[scores.index(max(scores))]\n",
    "\n",
    "def fullCombo_to_string(combo):\n",
    "    return ' + '.join(combo[:-1]) + ' = ' + combo[-1]"
   ]
  },
  {
   "cell_type": "code",
   "execution_count": 8,
   "metadata": {},
   "outputs": [
    {
     "data": {
      "text/plain": [
       "['air', 'earth', 'fire', 'water']"
      ]
     },
     "execution_count": 8,
     "metadata": {},
     "output_type": "execute_result"
    }
   ],
   "source": [
    "base_elements = get_base_elements(csv_list)['elem2'].tolist()\n",
    "curr_elements = base_elements\n",
    "base_elements"
   ]
  },
  {
   "cell_type": "code",
   "execution_count": 9,
   "metadata": {},
   "outputs": [
    {
     "name": "stdout",
     "output_type": "stream",
     "text": [
      "1 air + fire = energy\n",
      "2 earth + water = mud\n",
      "3 air + water = rain\n",
      "4 earth + rain = plant\n",
      "5 mud + plant = swamp\n",
      "6 energy + swamp = life\n",
      "7 earth + life = human\n",
      "8 human + plant = farmer\n",
      "9 earth + plant = grass\n",
      "10 earth + fire = lava\n",
      "11 air + lava = stone\n",
      "12 air + stone = sand\n",
      "13 fire + stone = metal\n",
      "14 fire + sand = glass\n",
      "15 human + metal = tool\n",
      "16 energy + metal = electricity\n",
      "17 life + stone = egg\n",
      "18 air + energy = wind\n",
      "19 earth + farmer = field\n",
      "20 air + life = bird\n",
      "21 energy + water = steam\n",
      "22 air + steam = cloud\n",
      "23 air + cloud = sky\n",
      "24 fire + sky = sun\n",
      "25 sun + tool = solar cell\n"
     ]
    }
   ],
   "source": [
    "for I in range(25):\n",
    "    newCombo = get_next_best_move(curr_elements, dfs, levels=3)\n",
    "    print(I, fullCombo_to_string(newCombo))\n",
    "    curr_elements.append(newCombo[-1])\n",
    "    curr_elements.sort()\n"
   ]
  },
  {
   "cell_type": "code",
   "execution_count": 10,
   "metadata": {},
   "outputs": [
    {
     "ename": "SyntaxError",
     "evalue": "invalid syntax (3019949423.py, line 1)",
     "output_type": "error",
     "traceback": [
      "\u001b[1;36m  Input \u001b[1;32mIn [10]\u001b[1;36m\u001b[0m\n\u001b[1;33m    def get_n\u001b[0m\n\u001b[1;37m             ^\u001b[0m\n\u001b[1;31mSyntaxError\u001b[0m\u001b[1;31m:\u001b[0m invalid syntax\n"
     ]
    }
   ],
   "source": [
    "def get_n_moves(curr_elements, dfs, levels=0, n=10):\n",
    "    r = []\n",
    "    for i in range(n):\n",
    "        newCombo = get_next_best_move(curr_elements, dfs, levels=3)\n",
    "        r.append(fullCombo_to_string(newCombo))\n",
    "        curr_elements.append(newCombo[-1])\n",
    "        curr_elements.sort()\n",
    "    return r"
   ]
  },
  {
   "cell_type": "markdown",
   "metadata": {},
   "source": [
    "# **Complete example**\n"
   ]
  },
  {
   "cell_type": "code",
   "execution_count": null,
   "metadata": {},
   "outputs": [],
   "source": [
    "dfs = create_elements_df(csv_list)\n",
    "base_elements = get_base_elements(csv_list)['elem2'].tolist()\n",
    "\n",
    "get_n_moves(base_elements, dfs, levels=2, n=20)"
   ]
  },
  {
   "cell_type": "markdown",
   "metadata": {},
   "source": [
    "----------------------------------------"
   ]
  },
  {
   "cell_type": "code",
   "execution_count": null,
   "metadata": {},
   "outputs": [
    {
     "data": {
      "text/plain": [
       "1067"
      ]
     },
     "execution_count": 10,
     "metadata": {},
     "output_type": "execute_result"
    }
   ],
   "source": [
    "get_elem_score('energy', dfs, 3)"
   ]
  },
  {
   "cell_type": "code",
   "execution_count": null,
   "metadata": {},
   "outputs": [
    {
     "data": {
      "text/html": [
       "<div>\n",
       "<style scoped>\n",
       "    .dataframe tbody tr th:only-of-type {\n",
       "        vertical-align: middle;\n",
       "    }\n",
       "\n",
       "    .dataframe tbody tr th {\n",
       "        vertical-align: top;\n",
       "    }\n",
       "\n",
       "    .dataframe thead th {\n",
       "        text-align: right;\n",
       "    }\n",
       "</style>\n",
       "<table border=\"1\" class=\"dataframe\">\n",
       "  <thead>\n",
       "    <tr style=\"text-align: right;\">\n",
       "      <th></th>\n",
       "      <th>elem1</th>\n",
       "      <th>elem2</th>\n",
       "      <th>result</th>\n",
       "    </tr>\n",
       "  </thead>\n",
       "  <tbody>\n",
       "    <tr>\n",
       "      <th>819</th>\n",
       "      <td>fire</td>\n",
       "      <td>water</td>\n",
       "      <td>steam</td>\n",
       "    </tr>\n",
       "  </tbody>\n",
       "</table>\n",
       "</div>"
      ],
      "text/plain": [
       "    elem1  elem2 result\n",
       "819  fire  water  steam"
      ]
     },
     "execution_count": 11,
     "metadata": {},
     "output_type": "execute_result"
    }
   ],
   "source": [
    "dfs[(dfs['elem1']=='fire') & (dfs['elem2']=='water')]"
   ]
  },
  {
   "cell_type": "code",
   "execution_count": null,
   "metadata": {},
   "outputs": [
    {
     "data": {
      "text/plain": [
       "0      False\n",
       "1      False\n",
       "3      False\n",
       "4      False\n",
       "5      False\n",
       "       ...  \n",
       "986    False\n",
       "987    False\n",
       "988    False\n",
       "989    False\n",
       "990    False\n",
       "Length: 987, dtype: bool"
      ]
     },
     "execution_count": 12,
     "metadata": {},
     "output_type": "execute_result"
    }
   ],
   "source": [
    "(dfs['elem1']=='fire') & (dfs['elem2']=='water')"
   ]
  },
  {
   "cell_type": "code",
   "execution_count": null,
   "metadata": {},
   "outputs": [
    {
     "data": {
      "text/plain": [
       "{'air', 'fire'}"
      ]
     },
     "execution_count": 13,
     "metadata": {},
     "output_type": "execute_result"
    }
   ],
   "source": [
    "set(['fire', 'water']).symmetric_difference(set(['water', 'air']))"
   ]
  }
 ],
 "metadata": {
  "interpreter": {
   "hash": "82d133e37cc4ce819137925968dd7cc5b4ce9fca12643606578bb14597479d96"
  },
  "kernelspec": {
   "display_name": "Python 3.9.12 ('jarphys2')",
   "language": "python",
   "name": "python3"
  },
  "language_info": {
   "codemirror_mode": {
    "name": "ipython",
    "version": 3
   },
   "file_extension": ".py",
   "mimetype": "text/x-python",
   "name": "python",
   "nbconvert_exporter": "python",
   "pygments_lexer": "ipython3",
   "version": "3.9.12"
  },
  "orig_nbformat": 4
 },
 "nbformat": 4,
 "nbformat_minor": 2
}
