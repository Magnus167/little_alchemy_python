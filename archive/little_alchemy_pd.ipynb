{
 "cells": [
  {
   "cell_type": "code",
   "execution_count": 1,
   "metadata": {},
   "outputs": [],
   "source": [
    "def load_csv(filename):\n",
    "    with open(filename, 'r', encoding='utf-8-sig') as f:\n",
    "        csv_list = [row.strip().split(',') for row in f.readlines()]\n",
    "    return csv_list\n",
    "\n",
    "def printx(listx):\n",
    "    for x in listx:\n",
    "        print(x)"
   ]
  },
  {
   "cell_type": "code",
   "execution_count": 2,
   "metadata": {},
   "outputs": [],
   "source": [
    "def parse_row(row):\n",
    "    name = row[0].lower()\n",
    "    prevElemCombos = row[1].lower().split(' / ')\n",
    "    prevElemCombos = [p.lower().split('+') for p in prevElemCombos]\n",
    "    if prevElemCombos == [['available from start.']]:\n",
    "        prevElemCombos = [['BASE_ELEMENT']]\n",
    "    prevElemCombos.sort()\n",
    "    for p in prevElemCombos:\n",
    "        p.sort()\n",
    "    return [prevElemCombo + [name] for prevElemCombo in prevElemCombos]\n",
    "\n",
    "def parse_rows(csv_list):\n",
    "    r = []\n",
    "    for row in csv_list:\n",
    "        r.extend(parse_row(row))\n",
    "    return r"
   ]
  },
  {
   "cell_type": "code",
   "execution_count": 3,
   "metadata": {},
   "outputs": [],
   "source": [
    "elemsFilename = 'elements_data.csv'\n",
    "csv_list = load_csv(elemsFilename)"
   ]
  },
  {
   "cell_type": "code",
   "execution_count": 4,
   "metadata": {},
   "outputs": [
    {
     "data": {
      "text/html": [
       "<div>\n",
       "<style scoped>\n",
       "    .dataframe tbody tr th:only-of-type {\n",
       "        vertical-align: middle;\n",
       "    }\n",
       "\n",
       "    .dataframe tbody tr th {\n",
       "        vertical-align: top;\n",
       "    }\n",
       "\n",
       "    .dataframe thead th {\n",
       "        text-align: right;\n",
       "    }\n",
       "</style>\n",
       "<table border=\"1\" class=\"dataframe\">\n",
       "  <thead>\n",
       "    <tr style=\"text-align: right;\">\n",
       "      <th></th>\n",
       "      <th>elem1</th>\n",
       "      <th>elem2</th>\n",
       "      <th>result</th>\n",
       "    </tr>\n",
       "  </thead>\n",
       "  <tbody>\n",
       "    <tr>\n",
       "      <th>0</th>\n",
       "      <td>rain</td>\n",
       "      <td>smog</td>\n",
       "      <td>acid rain</td>\n",
       "    </tr>\n",
       "    <tr>\n",
       "      <th>1</th>\n",
       "      <td>rain</td>\n",
       "      <td>smoke</td>\n",
       "      <td>acid rain</td>\n",
       "    </tr>\n",
       "    <tr>\n",
       "      <th>3</th>\n",
       "      <td>bird</td>\n",
       "      <td>metal</td>\n",
       "      <td>airplane</td>\n",
       "    </tr>\n",
       "    <tr>\n",
       "      <th>4</th>\n",
       "      <td>bird</td>\n",
       "      <td>steel</td>\n",
       "      <td>airplane</td>\n",
       "    </tr>\n",
       "    <tr>\n",
       "      <th>5</th>\n",
       "      <td>clock</td>\n",
       "      <td>sound</td>\n",
       "      <td>alarm clock</td>\n",
       "    </tr>\n",
       "  </tbody>\n",
       "</table>\n",
       "</div>"
      ],
      "text/plain": [
       "   elem1  elem2       result\n",
       "0   rain   smog    acid rain\n",
       "1   rain  smoke    acid rain\n",
       "3   bird  metal     airplane\n",
       "4   bird  steel     airplane\n",
       "5  clock  sound  alarm clock"
      ]
     },
     "execution_count": 4,
     "metadata": {},
     "output_type": "execute_result"
    }
   ],
   "source": [
    "import pandas as pd\n",
    "from tqdm import tqdm\n",
    "\n",
    "def create_elements_df(csv_list):\n",
    "    r = parse_rows(csv_list)\n",
    "    df = pd.DataFrame(r, columns=['elem1','elem2', 'result'])\n",
    "    base_elements = get_base_elements(csv_list)\n",
    "    return df[~df.index.isin(base_elements.index)]\n",
    "\n",
    "\n",
    "def get_base_elements(csv_list):\n",
    "    df = pd.DataFrame(parse_rows(csv_list), columns=['elem1','elem2', 'result'])\n",
    "    return df[df['elem1']=='BASE_ELEMENT']\n",
    "\n",
    "def get_elements_list(dfs):\n",
    "    r = []\n",
    "    for col in list(dfs.columns):\n",
    "        r.extend(dfs[col].tolist())\n",
    "    return list(set(r))\n",
    "\n"
   ]
  },
  {
   "cell_type": "code",
   "execution_count": 19,
   "metadata": {},
   "outputs": [
    {
     "name": "stdout",
     "output_type": "stream",
     "text": [
      "['air', 'earth', 'fire', 'water']\n"
     ]
    }
   ],
   "source": [
    "base_elements = get_base_elements(csv_list)['elem2'].tolist()\n",
    "print(base_elements)"
   ]
  },
  {
   "cell_type": "code",
   "execution_count": 6,
   "metadata": {},
   "outputs": [],
   "source": [
    "def get_unique_current_combos(curr_elements, dfs):\n",
    "    possible_combos = [[elem1, elem2] for elem1 in curr_elements for elem2 in curr_elements if elem1 != elem2]\n",
    "    for i in range(len(possible_combos)):\n",
    "        possible_combos[i].sort()\n",
    "        possible_combos[i] = '+'.join(possible_combos[i])\n",
    "    possible_combos = list(set(possible_combos))\n",
    "    possible_combos = [p.split('+') for p in possible_combos]\n",
    "    return possible_combos"
   ]
  },
  {
   "cell_type": "code",
   "execution_count": 7,
   "metadata": {},
   "outputs": [],
   "source": [
    "\n",
    "\n",
    "def get_next_best_move(curr_elements, dfs, levels=0):\n",
    "    next_possible_combos = get_next_possible_combos(curr_elements, dfs)\n",
    "    scores = [get_elem_score(e[-1], dfs, levels) for e in next_possible_combos]\n",
    "    return next_possible_combos[scores.index(max(scores))]\n",
    "\n",
    "def get_elem_score(elem, dfs, levels=0):\n",
    "    dFilter = (dfs['elem1']==elem) | (dfs['elem2']==elem)\n",
    "    if levels == 0:\n",
    "        return sum(dFilter)\n",
    "    else:\n",
    "        next_possible_elements = dfs.loc[dFilter, 'result'].tolist()\n",
    "        return sum([get_elem_score(e, dfs, levels-1) for e in next_possible_elements])\n",
    "\n",
    "def get_next_possible_combos(curr_elements, dfs):\n",
    "    r = []\n",
    "    unique_combos = get_unique_current_combos(curr_elements, dfs)\n",
    "    for combo in unique_combos:\n",
    "        l = (dfs['elem1']==combo[0]) & (dfs['elem2']==combo[1])\n",
    "        if l.any():\n",
    "            r.append([dfs.loc[l, 'elem1'].tolist()[0], dfs.loc[l, 'elem2'].tolist()[0] , dfs.loc[l, 'result'].tolist()[0]])\n",
    "    return [x for x in r if x[-1] not in curr_elements]\n",
    "\n",
    "def get_next_possible_elements(curr_elements, dfs):\n",
    "    r = get_next_possible_combos(curr_elements, dfs)\n",
    "    return [x[-1] for x in r]\n"
   ]
  },
  {
   "cell_type": "code",
   "execution_count": 8,
   "metadata": {},
   "outputs": [],
   "source": [
    "from joblib import Parallel, delayed\n",
    "from tqdm import tqdm\n",
    "\n",
    "def get_next_best_move(curr_elements, dfs, levels=0):\n",
    "    next_possible_combos = get_next_possible_combos(curr_elements, dfs)\n",
    "    scores = [get_elem_score(e[-1], dfs, levels) for e in next_possible_combos]\n",
    "    return next_possible_combos[scores.index(max(scores))]\n",
    "\n",
    "def fullCombo_to_string(combo):\n",
    "    return ' + '.join(combo[:-1]) + ' = ' + combo[-1]"
   ]
  },
  {
   "cell_type": "code",
   "execution_count": 9,
   "metadata": {},
   "outputs": [
    {
     "data": {
      "text/plain": [
       "['air', 'earth', 'fire', 'water']"
      ]
     },
     "execution_count": 9,
     "metadata": {},
     "output_type": "execute_result"
    }
   ],
   "source": [
    "base_elements = get_base_elements(csv_list)['elem2'].tolist()\n",
    "curr_elements = base_elements\n",
    "base_elements"
   ]
  },
  {
   "cell_type": "code",
   "execution_count": 10,
   "metadata": {},
   "outputs": [],
   "source": [
    "def get_n_moves(curr_elements, dfs, levels=0, n=10, print_moves=False):\n",
    "    curr_elements = list(curr_elements)\n",
    "    r = []\n",
    "    for i in (range(n) if print_moves else tqdm(range(n))):\n",
    "        newCombo = get_next_best_move(curr_elements, dfs, levels=levels)\n",
    "        r.append(fullCombo_to_string(newCombo))\n",
    "        if print_moves:\n",
    "            print(i+1, fullCombo_to_string(newCombo))\n",
    "        curr_elements.append(newCombo[-1])\n",
    "        curr_elements.sort()\n",
    "    return r"
   ]
  },
  {
   "cell_type": "markdown",
   "metadata": {},
   "source": [
    "# **Complete example**\n"
   ]
  },
  {
   "cell_type": "code",
   "execution_count": 11,
   "metadata": {},
   "outputs": [
    {
     "name": "stdout",
     "output_type": "stream",
     "text": [
      "1 air + fire = energy\n",
      "2 air + energy = wind\n",
      "3 air + water = rain\n",
      "4 earth + rain = plant\n",
      "5 earth + plant = grass\n",
      "6 earth + fire = lava\n",
      "7 air + lava = stone\n",
      "8 fire + stone = metal\n",
      "9 energy + metal = electricity\n",
      "10 air + stone = sand\n",
      "11 fire + sand = glass\n",
      "12 metal + stone = blade\n",
      "13 glass + metal = glasses\n",
      "14 electricity + metal = wire\n",
      "15 blade + metal = sword\n",
      "16 energy + water = steam\n",
      "17 air + steam = cloud\n",
      "18 air + cloud = sky\n",
      "19 fire + sky = sun\n",
      "20 rain + sun = rainbow\n",
      "21 sky + stone = moon\n",
      "22 moon + sky = night\n",
      "23 night + sky = star\n",
      "24 grass + sun = hay\n",
      "25 sky + star = space\n"
     ]
    }
   ],
   "source": [
    "elemsFilename = 'elements_data.csv'\n",
    "csv_list = load_csv(elemsFilename)\n",
    "\n",
    "dfs = create_elements_df(csv_list)\n",
    "base_elements = get_base_elements(csv_list)['elem2'].tolist()\n",
    "nx = 25\n",
    "\n",
    "x = get_n_moves(curr_elements=base_elements, dfs=dfs, levels=0, n=nx, print_moves=True)"
   ]
  },
  {
   "cell_type": "code",
   "execution_count": 12,
   "metadata": {},
   "outputs": [
    {
     "name": "stdout",
     "output_type": "stream",
     "text": [
      "1 air + fire = energy\n",
      "2 air + water = rain\n",
      "3 earth + rain = plant\n",
      "4 earth + plant = grass\n",
      "5 air + energy = wind\n",
      "6 earth + water = mud\n",
      "7 mud + plant = swamp\n",
      "8 energy + swamp = life\n",
      "9 earth + life = human\n",
      "10 human + plant = farmer\n",
      "11 farmer + life = livestock\n",
      "12 air + life = bird\n",
      "13 grass + livestock = cow\n",
      "14 human + rain = cold\n",
      "15 energy + water = steam\n",
      "16 air + steam = cloud\n",
      "17 air + cloud = sky\n",
      "18 fire + sky = sun\n",
      "19 earth + fire = lava\n",
      "20 air + lava = stone\n",
      "21 fire + stone = metal\n",
      "22 human + metal = tool\n",
      "23 air + stone = sand\n",
      "24 life + stone = egg\n",
      "25 energy + metal = electricity\n"
     ]
    }
   ],
   "source": [
    "x = get_n_moves(curr_elements=base_elements, dfs=dfs, levels=1, n=nx, print_moves=True)"
   ]
  },
  {
   "cell_type": "code",
   "execution_count": 13,
   "metadata": {},
   "outputs": [
    {
     "name": "stdout",
     "output_type": "stream",
     "text": [
      "1 air + fire = energy\n",
      "2 air + water = rain\n",
      "3 earth + rain = plant\n",
      "4 earth + plant = grass\n",
      "5 earth + fire = lava\n",
      "6 air + lava = stone\n",
      "7 fire + stone = metal\n",
      "8 air + stone = sand\n",
      "9 fire + sand = glass\n",
      "10 energy + metal = electricity\n",
      "11 earth + water = mud\n",
      "12 mud + plant = swamp\n",
      "13 energy + swamp = life\n",
      "14 earth + life = human\n",
      "15 human + metal = tool\n",
      "16 human + plant = farmer\n",
      "17 life + stone = egg\n",
      "18 air + egg = bird\n",
      "19 egg + swamp = lizard\n",
      "20 air + energy = wind\n",
      "21 farmer + life = livestock\n",
      "22 egg + sand = turtle\n",
      "23 earth + farmer = field\n",
      "24 fire + water = steam\n",
      "25 air + steam = cloud\n"
     ]
    }
   ],
   "source": [
    "x = get_n_moves(curr_elements=base_elements, dfs=dfs, levels=2, n=nx, print_moves=True)"
   ]
  },
  {
   "cell_type": "markdown",
   "metadata": {},
   "source": [
    "----------------------------------------"
   ]
  },
  {
   "cell_type": "code",
   "execution_count": 14,
   "metadata": {},
   "outputs": [
    {
     "name": "stdout",
     "output_type": "stream",
     "text": [
      "1 air + fire = energy\n",
      "2 earth + water = mud\n",
      "3 air + water = rain\n",
      "4 earth + rain = plant\n",
      "5 mud + plant = swamp\n",
      "6 energy + swamp = life\n",
      "7 earth + life = human\n",
      "8 human + plant = farmer\n",
      "9 earth + plant = grass\n",
      "10 earth + fire = lava\n",
      "11 air + lava = stone\n",
      "12 air + stone = sand\n",
      "13 fire + stone = metal\n",
      "14 fire + sand = glass\n",
      "15 human + metal = tool\n",
      "16 energy + metal = electricity\n",
      "17 life + stone = egg\n",
      "18 air + energy = wind\n",
      "19 earth + tool = field\n",
      "20 air + egg = bird\n",
      "21 energy + water = steam\n",
      "22 air + steam = cloud\n",
      "23 air + cloud = sky\n",
      "24 fire + sky = sun\n",
      "25 sun + tool = solar cell\n"
     ]
    }
   ],
   "source": [
    "x = get_n_moves(curr_elements=base_elements, dfs=dfs, levels=3, n=nx, print_moves=True)"
   ]
  },
  {
   "cell_type": "code",
   "execution_count": 15,
   "metadata": {},
   "outputs": [
    {
     "name": "stdout",
     "output_type": "stream",
     "text": [
      "1 air + fire = energy\n",
      "2 air + water = rain\n",
      "3 earth + rain = plant\n",
      "4 earth + water = mud\n",
      "5 mud + plant = swamp\n",
      "6 energy + swamp = life\n",
      "7 earth + life = human\n",
      "8 earth + plant = grass\n",
      "9 earth + fire = lava\n",
      "10 air + lava = stone\n",
      "11 air + stone = sand\n",
      "12 fire + sand = glass\n",
      "13 fire + stone = metal\n",
      "14 energy + metal = electricity\n",
      "15 human + metal = tool\n",
      "16 life + stone = egg\n",
      "17 human + plant = farmer\n",
      "18 air + energy = wind\n",
      "19 earth + tool = field\n",
      "20 energy + water = steam\n",
      "21 air + steam = cloud\n",
      "22 air + cloud = sky\n",
      "23 fire + sky = sun\n",
      "24 sun + tool = solar cell\n",
      "25 sky + stone = moon\n"
     ]
    }
   ],
   "source": [
    "x = get_n_moves(curr_elements=base_elements, dfs=dfs, levels=4, n=nx, print_moves=True)"
   ]
  },
  {
   "cell_type": "code",
   "execution_count": 16,
   "metadata": {},
   "outputs": [
    {
     "name": "stdout",
     "output_type": "stream",
     "text": [
      "1 air + fire = energy\n",
      "2 air + water = rain\n",
      "3 earth + rain = plant\n",
      "4 earth + water = mud\n",
      "5 mud + plant = swamp\n"
     ]
    },
    {
     "ename": "KeyboardInterrupt",
     "evalue": "",
     "output_type": "error",
     "traceback": [
      "\u001b[1;31m---------------------------------------------------------------------------\u001b[0m",
      "\u001b[1;31mKeyboardInterrupt\u001b[0m                         Traceback (most recent call last)",
      "\u001b[1;32me:\\jGit\\little_alchemy_python\\little_alchemy_pd.ipynb Cell 19'\u001b[0m in \u001b[0;36m<cell line: 1>\u001b[1;34m()\u001b[0m\n\u001b[1;32m----> <a href='vscode-notebook-cell:/e%3A/jGit/little_alchemy_python/little_alchemy_pd.ipynb#ch0000028?line=0'>1</a>\u001b[0m x \u001b[39m=\u001b[39m get_n_moves(curr_elements\u001b[39m=\u001b[39;49mbase_elements, dfs\u001b[39m=\u001b[39;49mdfs, levels\u001b[39m=\u001b[39;49m\u001b[39m5\u001b[39;49m, n\u001b[39m=\u001b[39;49mnx, print_moves\u001b[39m=\u001b[39;49m\u001b[39mTrue\u001b[39;49;00m)\n",
      "\u001b[1;32me:\\jGit\\little_alchemy_python\\little_alchemy_pd.ipynb Cell 11'\u001b[0m in \u001b[0;36mget_n_moves\u001b[1;34m(curr_elements, dfs, levels, n, print_moves)\u001b[0m\n\u001b[0;32m      <a href='vscode-notebook-cell:/e%3A/jGit/little_alchemy_python/little_alchemy_pd.ipynb#ch0000009?line=2'>3</a>\u001b[0m r \u001b[39m=\u001b[39m []\n\u001b[0;32m      <a href='vscode-notebook-cell:/e%3A/jGit/little_alchemy_python/little_alchemy_pd.ipynb#ch0000009?line=3'>4</a>\u001b[0m \u001b[39mfor\u001b[39;00m i \u001b[39min\u001b[39;00m (\u001b[39mrange\u001b[39m(n) \u001b[39mif\u001b[39;00m print_moves \u001b[39melse\u001b[39;00m tqdm(\u001b[39mrange\u001b[39m(n))):\n\u001b[1;32m----> <a href='vscode-notebook-cell:/e%3A/jGit/little_alchemy_python/little_alchemy_pd.ipynb#ch0000009?line=4'>5</a>\u001b[0m     newCombo \u001b[39m=\u001b[39m get_next_best_move(curr_elements, dfs, levels\u001b[39m=\u001b[39;49mlevels)\n\u001b[0;32m      <a href='vscode-notebook-cell:/e%3A/jGit/little_alchemy_python/little_alchemy_pd.ipynb#ch0000009?line=5'>6</a>\u001b[0m     r\u001b[39m.\u001b[39mappend(fullCombo_to_string(newCombo))\n\u001b[0;32m      <a href='vscode-notebook-cell:/e%3A/jGit/little_alchemy_python/little_alchemy_pd.ipynb#ch0000009?line=6'>7</a>\u001b[0m     \u001b[39mif\u001b[39;00m print_moves:\n",
      "\u001b[1;32me:\\jGit\\little_alchemy_python\\little_alchemy_pd.ipynb Cell 9'\u001b[0m in \u001b[0;36mget_next_best_move\u001b[1;34m(curr_elements, dfs, levels)\u001b[0m\n\u001b[0;32m      <a href='vscode-notebook-cell:/e%3A/jGit/little_alchemy_python/little_alchemy_pd.ipynb#ch0000006?line=3'>4</a>\u001b[0m \u001b[39mdef\u001b[39;00m \u001b[39mget_next_best_move\u001b[39m(curr_elements, dfs, levels\u001b[39m=\u001b[39m\u001b[39m0\u001b[39m):\n\u001b[0;32m      <a href='vscode-notebook-cell:/e%3A/jGit/little_alchemy_python/little_alchemy_pd.ipynb#ch0000006?line=4'>5</a>\u001b[0m     next_possible_combos \u001b[39m=\u001b[39m get_next_possible_combos(curr_elements, dfs)\n\u001b[1;32m----> <a href='vscode-notebook-cell:/e%3A/jGit/little_alchemy_python/little_alchemy_pd.ipynb#ch0000006?line=5'>6</a>\u001b[0m     scores \u001b[39m=\u001b[39m [get_elem_score(e[\u001b[39m-\u001b[39m\u001b[39m1\u001b[39m], dfs, levels) \u001b[39mfor\u001b[39;00m e \u001b[39min\u001b[39;00m next_possible_combos]\n\u001b[0;32m      <a href='vscode-notebook-cell:/e%3A/jGit/little_alchemy_python/little_alchemy_pd.ipynb#ch0000006?line=6'>7</a>\u001b[0m     \u001b[39mreturn\u001b[39;00m next_possible_combos[scores\u001b[39m.\u001b[39mindex(\u001b[39mmax\u001b[39m(scores))]\n",
      "\u001b[1;32me:\\jGit\\little_alchemy_python\\little_alchemy_pd.ipynb Cell 9'\u001b[0m in \u001b[0;36m<listcomp>\u001b[1;34m(.0)\u001b[0m\n\u001b[0;32m      <a href='vscode-notebook-cell:/e%3A/jGit/little_alchemy_python/little_alchemy_pd.ipynb#ch0000006?line=3'>4</a>\u001b[0m \u001b[39mdef\u001b[39;00m \u001b[39mget_next_best_move\u001b[39m(curr_elements, dfs, levels\u001b[39m=\u001b[39m\u001b[39m0\u001b[39m):\n\u001b[0;32m      <a href='vscode-notebook-cell:/e%3A/jGit/little_alchemy_python/little_alchemy_pd.ipynb#ch0000006?line=4'>5</a>\u001b[0m     next_possible_combos \u001b[39m=\u001b[39m get_next_possible_combos(curr_elements, dfs)\n\u001b[1;32m----> <a href='vscode-notebook-cell:/e%3A/jGit/little_alchemy_python/little_alchemy_pd.ipynb#ch0000006?line=5'>6</a>\u001b[0m     scores \u001b[39m=\u001b[39m [get_elem_score(e[\u001b[39m-\u001b[39;49m\u001b[39m1\u001b[39;49m], dfs, levels) \u001b[39mfor\u001b[39;00m e \u001b[39min\u001b[39;00m next_possible_combos]\n\u001b[0;32m      <a href='vscode-notebook-cell:/e%3A/jGit/little_alchemy_python/little_alchemy_pd.ipynb#ch0000006?line=6'>7</a>\u001b[0m     \u001b[39mreturn\u001b[39;00m next_possible_combos[scores\u001b[39m.\u001b[39mindex(\u001b[39mmax\u001b[39m(scores))]\n",
      "\u001b[1;32me:\\jGit\\little_alchemy_python\\little_alchemy_pd.ipynb Cell 7'\u001b[0m in \u001b[0;36mget_elem_score\u001b[1;34m(elem, dfs, levels)\u001b[0m\n\u001b[0;32m      <a href='vscode-notebook-cell:/e%3A/jGit/little_alchemy_python/little_alchemy_pd.ipynb#ch0000005?line=4'>5</a>\u001b[0m \u001b[39melse\u001b[39;00m:\n\u001b[0;32m      <a href='vscode-notebook-cell:/e%3A/jGit/little_alchemy_python/little_alchemy_pd.ipynb#ch0000005?line=5'>6</a>\u001b[0m     next_possible_elements \u001b[39m=\u001b[39m dfs\u001b[39m.\u001b[39mloc[dFilter, \u001b[39m'\u001b[39m\u001b[39mresult\u001b[39m\u001b[39m'\u001b[39m]\u001b[39m.\u001b[39mtolist()\n\u001b[1;32m----> <a href='vscode-notebook-cell:/e%3A/jGit/little_alchemy_python/little_alchemy_pd.ipynb#ch0000005?line=6'>7</a>\u001b[0m     \u001b[39mreturn\u001b[39;00m \u001b[39msum\u001b[39m([get_elem_score(e, dfs, levels\u001b[39m-\u001b[39m\u001b[39m1\u001b[39m) \u001b[39mfor\u001b[39;00m e \u001b[39min\u001b[39;00m next_possible_elements])\n",
      "\u001b[1;32me:\\jGit\\little_alchemy_python\\little_alchemy_pd.ipynb Cell 7'\u001b[0m in \u001b[0;36m<listcomp>\u001b[1;34m(.0)\u001b[0m\n\u001b[0;32m      <a href='vscode-notebook-cell:/e%3A/jGit/little_alchemy_python/little_alchemy_pd.ipynb#ch0000005?line=4'>5</a>\u001b[0m \u001b[39melse\u001b[39;00m:\n\u001b[0;32m      <a href='vscode-notebook-cell:/e%3A/jGit/little_alchemy_python/little_alchemy_pd.ipynb#ch0000005?line=5'>6</a>\u001b[0m     next_possible_elements \u001b[39m=\u001b[39m dfs\u001b[39m.\u001b[39mloc[dFilter, \u001b[39m'\u001b[39m\u001b[39mresult\u001b[39m\u001b[39m'\u001b[39m]\u001b[39m.\u001b[39mtolist()\n\u001b[1;32m----> <a href='vscode-notebook-cell:/e%3A/jGit/little_alchemy_python/little_alchemy_pd.ipynb#ch0000005?line=6'>7</a>\u001b[0m     \u001b[39mreturn\u001b[39;00m \u001b[39msum\u001b[39m([get_elem_score(e, dfs, levels\u001b[39m-\u001b[39;49m\u001b[39m1\u001b[39;49m) \u001b[39mfor\u001b[39;00m e \u001b[39min\u001b[39;00m next_possible_elements])\n",
      "\u001b[1;32me:\\jGit\\little_alchemy_python\\little_alchemy_pd.ipynb Cell 7'\u001b[0m in \u001b[0;36mget_elem_score\u001b[1;34m(elem, dfs, levels)\u001b[0m\n\u001b[0;32m      <a href='vscode-notebook-cell:/e%3A/jGit/little_alchemy_python/little_alchemy_pd.ipynb#ch0000005?line=4'>5</a>\u001b[0m \u001b[39melse\u001b[39;00m:\n\u001b[0;32m      <a href='vscode-notebook-cell:/e%3A/jGit/little_alchemy_python/little_alchemy_pd.ipynb#ch0000005?line=5'>6</a>\u001b[0m     next_possible_elements \u001b[39m=\u001b[39m dfs\u001b[39m.\u001b[39mloc[dFilter, \u001b[39m'\u001b[39m\u001b[39mresult\u001b[39m\u001b[39m'\u001b[39m]\u001b[39m.\u001b[39mtolist()\n\u001b[1;32m----> <a href='vscode-notebook-cell:/e%3A/jGit/little_alchemy_python/little_alchemy_pd.ipynb#ch0000005?line=6'>7</a>\u001b[0m     \u001b[39mreturn\u001b[39;00m \u001b[39msum\u001b[39m([get_elem_score(e, dfs, levels\u001b[39m-\u001b[39m\u001b[39m1\u001b[39m) \u001b[39mfor\u001b[39;00m e \u001b[39min\u001b[39;00m next_possible_elements])\n",
      "\u001b[1;32me:\\jGit\\little_alchemy_python\\little_alchemy_pd.ipynb Cell 7'\u001b[0m in \u001b[0;36m<listcomp>\u001b[1;34m(.0)\u001b[0m\n\u001b[0;32m      <a href='vscode-notebook-cell:/e%3A/jGit/little_alchemy_python/little_alchemy_pd.ipynb#ch0000005?line=4'>5</a>\u001b[0m \u001b[39melse\u001b[39;00m:\n\u001b[0;32m      <a href='vscode-notebook-cell:/e%3A/jGit/little_alchemy_python/little_alchemy_pd.ipynb#ch0000005?line=5'>6</a>\u001b[0m     next_possible_elements \u001b[39m=\u001b[39m dfs\u001b[39m.\u001b[39mloc[dFilter, \u001b[39m'\u001b[39m\u001b[39mresult\u001b[39m\u001b[39m'\u001b[39m]\u001b[39m.\u001b[39mtolist()\n\u001b[1;32m----> <a href='vscode-notebook-cell:/e%3A/jGit/little_alchemy_python/little_alchemy_pd.ipynb#ch0000005?line=6'>7</a>\u001b[0m     \u001b[39mreturn\u001b[39;00m \u001b[39msum\u001b[39m([get_elem_score(e, dfs, levels\u001b[39m-\u001b[39;49m\u001b[39m1\u001b[39;49m) \u001b[39mfor\u001b[39;00m e \u001b[39min\u001b[39;00m next_possible_elements])\n",
      "\u001b[1;32me:\\jGit\\little_alchemy_python\\little_alchemy_pd.ipynb Cell 7'\u001b[0m in \u001b[0;36mget_elem_score\u001b[1;34m(elem, dfs, levels)\u001b[0m\n\u001b[0;32m      <a href='vscode-notebook-cell:/e%3A/jGit/little_alchemy_python/little_alchemy_pd.ipynb#ch0000005?line=4'>5</a>\u001b[0m \u001b[39melse\u001b[39;00m:\n\u001b[0;32m      <a href='vscode-notebook-cell:/e%3A/jGit/little_alchemy_python/little_alchemy_pd.ipynb#ch0000005?line=5'>6</a>\u001b[0m     next_possible_elements \u001b[39m=\u001b[39m dfs\u001b[39m.\u001b[39mloc[dFilter, \u001b[39m'\u001b[39m\u001b[39mresult\u001b[39m\u001b[39m'\u001b[39m]\u001b[39m.\u001b[39mtolist()\n\u001b[1;32m----> <a href='vscode-notebook-cell:/e%3A/jGit/little_alchemy_python/little_alchemy_pd.ipynb#ch0000005?line=6'>7</a>\u001b[0m     \u001b[39mreturn\u001b[39;00m \u001b[39msum\u001b[39m([get_elem_score(e, dfs, levels\u001b[39m-\u001b[39m\u001b[39m1\u001b[39m) \u001b[39mfor\u001b[39;00m e \u001b[39min\u001b[39;00m next_possible_elements])\n",
      "\u001b[1;32me:\\jGit\\little_alchemy_python\\little_alchemy_pd.ipynb Cell 7'\u001b[0m in \u001b[0;36m<listcomp>\u001b[1;34m(.0)\u001b[0m\n\u001b[0;32m      <a href='vscode-notebook-cell:/e%3A/jGit/little_alchemy_python/little_alchemy_pd.ipynb#ch0000005?line=4'>5</a>\u001b[0m \u001b[39melse\u001b[39;00m:\n\u001b[0;32m      <a href='vscode-notebook-cell:/e%3A/jGit/little_alchemy_python/little_alchemy_pd.ipynb#ch0000005?line=5'>6</a>\u001b[0m     next_possible_elements \u001b[39m=\u001b[39m dfs\u001b[39m.\u001b[39mloc[dFilter, \u001b[39m'\u001b[39m\u001b[39mresult\u001b[39m\u001b[39m'\u001b[39m]\u001b[39m.\u001b[39mtolist()\n\u001b[1;32m----> <a href='vscode-notebook-cell:/e%3A/jGit/little_alchemy_python/little_alchemy_pd.ipynb#ch0000005?line=6'>7</a>\u001b[0m     \u001b[39mreturn\u001b[39;00m \u001b[39msum\u001b[39m([get_elem_score(e, dfs, levels\u001b[39m-\u001b[39;49m\u001b[39m1\u001b[39;49m) \u001b[39mfor\u001b[39;00m e \u001b[39min\u001b[39;00m next_possible_elements])\n",
      "\u001b[1;32me:\\jGit\\little_alchemy_python\\little_alchemy_pd.ipynb Cell 7'\u001b[0m in \u001b[0;36mget_elem_score\u001b[1;34m(elem, dfs, levels)\u001b[0m\n\u001b[0;32m      <a href='vscode-notebook-cell:/e%3A/jGit/little_alchemy_python/little_alchemy_pd.ipynb#ch0000005?line=0'>1</a>\u001b[0m \u001b[39mdef\u001b[39;00m \u001b[39mget_elem_score\u001b[39m(elem, dfs, levels\u001b[39m=\u001b[39m\u001b[39m0\u001b[39m):\n\u001b[1;32m----> <a href='vscode-notebook-cell:/e%3A/jGit/little_alchemy_python/little_alchemy_pd.ipynb#ch0000005?line=1'>2</a>\u001b[0m     dFilter \u001b[39m=\u001b[39m (dfs[\u001b[39m'\u001b[39;49m\u001b[39melem1\u001b[39;49m\u001b[39m'\u001b[39;49m]\u001b[39m==\u001b[39;49melem) \u001b[39m|\u001b[39;49m (dfs[\u001b[39m'\u001b[39;49m\u001b[39melem2\u001b[39;49m\u001b[39m'\u001b[39;49m]\u001b[39m==\u001b[39;49melem)\n\u001b[0;32m      <a href='vscode-notebook-cell:/e%3A/jGit/little_alchemy_python/little_alchemy_pd.ipynb#ch0000005?line=2'>3</a>\u001b[0m     \u001b[39mif\u001b[39;00m levels \u001b[39m==\u001b[39m \u001b[39m0\u001b[39m:\n\u001b[0;32m      <a href='vscode-notebook-cell:/e%3A/jGit/little_alchemy_python/little_alchemy_pd.ipynb#ch0000005?line=3'>4</a>\u001b[0m         \u001b[39mreturn\u001b[39;00m \u001b[39msum\u001b[39m(dFilter)\n",
      "File \u001b[1;32mc:\\Users\\Palash Tyagi\\.conda\\envs\\jarphys2\\lib\\site-packages\\pandas\\core\\ops\\common.py:70\u001b[0m, in \u001b[0;36m_unpack_zerodim_and_defer.<locals>.new_method\u001b[1;34m(self, other)\u001b[0m\n\u001b[0;32m     <a href='file:///c%3A/Users/Palash%20Tyagi/.conda/envs/jarphys2/lib/site-packages/pandas/core/ops/common.py?line=65'>66</a>\u001b[0m             \u001b[39mreturn\u001b[39;00m \u001b[39mNotImplemented\u001b[39m\n\u001b[0;32m     <a href='file:///c%3A/Users/Palash%20Tyagi/.conda/envs/jarphys2/lib/site-packages/pandas/core/ops/common.py?line=67'>68</a>\u001b[0m other \u001b[39m=\u001b[39m item_from_zerodim(other)\n\u001b[1;32m---> <a href='file:///c%3A/Users/Palash%20Tyagi/.conda/envs/jarphys2/lib/site-packages/pandas/core/ops/common.py?line=69'>70</a>\u001b[0m \u001b[39mreturn\u001b[39;00m method(\u001b[39mself\u001b[39;49m, other)\n",
      "File \u001b[1;32mc:\\Users\\Palash Tyagi\\.conda\\envs\\jarphys2\\lib\\site-packages\\pandas\\core\\arraylike.py:78\u001b[0m, in \u001b[0;36mOpsMixin.__or__\u001b[1;34m(self, other)\u001b[0m\n\u001b[0;32m     <a href='file:///c%3A/Users/Palash%20Tyagi/.conda/envs/jarphys2/lib/site-packages/pandas/core/arraylike.py?line=75'>76</a>\u001b[0m \u001b[39m@unpack_zerodim_and_defer\u001b[39m(\u001b[39m\"\u001b[39m\u001b[39m__or__\u001b[39m\u001b[39m\"\u001b[39m)\n\u001b[0;32m     <a href='file:///c%3A/Users/Palash%20Tyagi/.conda/envs/jarphys2/lib/site-packages/pandas/core/arraylike.py?line=76'>77</a>\u001b[0m \u001b[39mdef\u001b[39;00m \u001b[39m__or__\u001b[39m(\u001b[39mself\u001b[39m, other):\n\u001b[1;32m---> <a href='file:///c%3A/Users/Palash%20Tyagi/.conda/envs/jarphys2/lib/site-packages/pandas/core/arraylike.py?line=77'>78</a>\u001b[0m     \u001b[39mreturn\u001b[39;00m \u001b[39mself\u001b[39;49m\u001b[39m.\u001b[39;49m_logical_method(other, operator\u001b[39m.\u001b[39;49mor_)\n",
      "File \u001b[1;32mc:\\Users\\Palash Tyagi\\.conda\\envs\\jarphys2\\lib\\site-packages\\pandas\\core\\series.py:5634\u001b[0m, in \u001b[0;36mSeries._logical_method\u001b[1;34m(self, other, op)\u001b[0m\n\u001b[0;32m   <a href='file:///c%3A/Users/Palash%20Tyagi/.conda/envs/jarphys2/lib/site-packages/pandas/core/series.py?line=5630'>5631</a>\u001b[0m lvalues \u001b[39m=\u001b[39m \u001b[39mself\u001b[39m\u001b[39m.\u001b[39m_values\n\u001b[0;32m   <a href='file:///c%3A/Users/Palash%20Tyagi/.conda/envs/jarphys2/lib/site-packages/pandas/core/series.py?line=5631'>5632</a>\u001b[0m rvalues \u001b[39m=\u001b[39m extract_array(other, extract_numpy\u001b[39m=\u001b[39m\u001b[39mTrue\u001b[39;00m, extract_range\u001b[39m=\u001b[39m\u001b[39mTrue\u001b[39;00m)\n\u001b[1;32m-> <a href='file:///c%3A/Users/Palash%20Tyagi/.conda/envs/jarphys2/lib/site-packages/pandas/core/series.py?line=5633'>5634</a>\u001b[0m res_values \u001b[39m=\u001b[39m ops\u001b[39m.\u001b[39;49mlogical_op(lvalues, rvalues, op)\n\u001b[0;32m   <a href='file:///c%3A/Users/Palash%20Tyagi/.conda/envs/jarphys2/lib/site-packages/pandas/core/series.py?line=5634'>5635</a>\u001b[0m \u001b[39mreturn\u001b[39;00m \u001b[39mself\u001b[39m\u001b[39m.\u001b[39m_construct_result(res_values, name\u001b[39m=\u001b[39mres_name)\n",
      "File \u001b[1;32mc:\\Users\\Palash Tyagi\\.conda\\envs\\jarphys2\\lib\\site-packages\\pandas\\core\\ops\\array_ops.py:391\u001b[0m, in \u001b[0;36mlogical_op\u001b[1;34m(left, right, op)\u001b[0m\n\u001b[0;32m    <a href='file:///c%3A/Users/Palash%20Tyagi/.conda/envs/jarphys2/lib/site-packages/pandas/core/ops/array_ops.py?line=386'>387</a>\u001b[0m \u001b[39m# For int vs int `^`, `|`, `&` are bitwise operators and return\u001b[39;00m\n\u001b[0;32m    <a href='file:///c%3A/Users/Palash%20Tyagi/.conda/envs/jarphys2/lib/site-packages/pandas/core/ops/array_ops.py?line=387'>388</a>\u001b[0m \u001b[39m#   integer dtypes.  Otherwise these are boolean ops\u001b[39;00m\n\u001b[0;32m    <a href='file:///c%3A/Users/Palash%20Tyagi/.conda/envs/jarphys2/lib/site-packages/pandas/core/ops/array_ops.py?line=388'>389</a>\u001b[0m filler \u001b[39m=\u001b[39m fill_int \u001b[39mif\u001b[39;00m is_self_int_dtype \u001b[39mand\u001b[39;00m is_other_int_dtype \u001b[39melse\u001b[39;00m fill_bool\n\u001b[1;32m--> <a href='file:///c%3A/Users/Palash%20Tyagi/.conda/envs/jarphys2/lib/site-packages/pandas/core/ops/array_ops.py?line=390'>391</a>\u001b[0m res_values \u001b[39m=\u001b[39m na_logical_op(lvalues, rvalues, op)\n\u001b[0;32m    <a href='file:///c%3A/Users/Palash%20Tyagi/.conda/envs/jarphys2/lib/site-packages/pandas/core/ops/array_ops.py?line=391'>392</a>\u001b[0m \u001b[39m# error: Cannot call function of unknown type\u001b[39;00m\n\u001b[0;32m    <a href='file:///c%3A/Users/Palash%20Tyagi/.conda/envs/jarphys2/lib/site-packages/pandas/core/ops/array_ops.py?line=392'>393</a>\u001b[0m res_values \u001b[39m=\u001b[39m filler(res_values)  \u001b[39m# type: ignore[operator]\u001b[39;00m\n",
      "File \u001b[1;32mc:\\Users\\Palash Tyagi\\.conda\\envs\\jarphys2\\lib\\site-packages\\pandas\\core\\ops\\array_ops.py:301\u001b[0m, in \u001b[0;36mna_logical_op\u001b[1;34m(x, y, op)\u001b[0m\n\u001b[0;32m    <a href='file:///c%3A/Users/Palash%20Tyagi/.conda/envs/jarphys2/lib/site-packages/pandas/core/ops/array_ops.py?line=290'>291</a>\u001b[0m \u001b[39mdef\u001b[39;00m \u001b[39mna_logical_op\u001b[39m(x: np\u001b[39m.\u001b[39mndarray, y, op):\n\u001b[0;32m    <a href='file:///c%3A/Users/Palash%20Tyagi/.conda/envs/jarphys2/lib/site-packages/pandas/core/ops/array_ops.py?line=291'>292</a>\u001b[0m     \u001b[39mtry\u001b[39;00m:\n\u001b[0;32m    <a href='file:///c%3A/Users/Palash%20Tyagi/.conda/envs/jarphys2/lib/site-packages/pandas/core/ops/array_ops.py?line=292'>293</a>\u001b[0m         \u001b[39m# For exposition, write:\u001b[39;00m\n\u001b[0;32m    <a href='file:///c%3A/Users/Palash%20Tyagi/.conda/envs/jarphys2/lib/site-packages/pandas/core/ops/array_ops.py?line=293'>294</a>\u001b[0m         \u001b[39m#  yarr = isinstance(y, np.ndarray)\u001b[39;00m\n\u001b[1;32m   (...)\u001b[0m\n\u001b[0;32m    <a href='file:///c%3A/Users/Palash%20Tyagi/.conda/envs/jarphys2/lib/site-packages/pandas/core/ops/array_ops.py?line=298'>299</a>\u001b[0m         \u001b[39m# Then Cases where this goes through without raising include:\u001b[39;00m\n\u001b[0;32m    <a href='file:///c%3A/Users/Palash%20Tyagi/.conda/envs/jarphys2/lib/site-packages/pandas/core/ops/array_ops.py?line=299'>300</a>\u001b[0m         \u001b[39m#  (xint or xbool) and (yint or bool)\u001b[39;00m\n\u001b[1;32m--> <a href='file:///c%3A/Users/Palash%20Tyagi/.conda/envs/jarphys2/lib/site-packages/pandas/core/ops/array_ops.py?line=300'>301</a>\u001b[0m         result \u001b[39m=\u001b[39m op(x, y)\n\u001b[0;32m    <a href='file:///c%3A/Users/Palash%20Tyagi/.conda/envs/jarphys2/lib/site-packages/pandas/core/ops/array_ops.py?line=301'>302</a>\u001b[0m     \u001b[39mexcept\u001b[39;00m \u001b[39mTypeError\u001b[39;00m:\n\u001b[0;32m    <a href='file:///c%3A/Users/Palash%20Tyagi/.conda/envs/jarphys2/lib/site-packages/pandas/core/ops/array_ops.py?line=302'>303</a>\u001b[0m         \u001b[39mif\u001b[39;00m \u001b[39misinstance\u001b[39m(y, np\u001b[39m.\u001b[39mndarray):\n\u001b[0;32m    <a href='file:///c%3A/Users/Palash%20Tyagi/.conda/envs/jarphys2/lib/site-packages/pandas/core/ops/array_ops.py?line=303'>304</a>\u001b[0m             \u001b[39m# bool-bool dtype operations should be OK, should not get here\u001b[39;00m\n",
      "\u001b[1;31mKeyboardInterrupt\u001b[0m: "
     ]
    }
   ],
   "source": [
    "x = get_n_moves(curr_elements=base_elements, dfs=dfs, levels=5, n=nx, print_moves=True)"
   ]
  },
  {
   "cell_type": "code",
   "execution_count": null,
   "metadata": {},
   "outputs": [],
   "source": [
    "x = get_n_moves(curr_elements=base_elements, dfs=dfs, levels=6, n=nx, print_moves=True)"
   ]
  }
 ],
 "metadata": {
  "interpreter": {
   "hash": "82d133e37cc4ce819137925968dd7cc5b4ce9fca12643606578bb14597479d96"
  },
  "kernelspec": {
   "display_name": "Python 3.9.12 ('jarphys2')",
   "language": "python",
   "name": "python3"
  },
  "language_info": {
   "codemirror_mode": {
    "name": "ipython",
    "version": 3
   },
   "file_extension": ".py",
   "mimetype": "text/x-python",
   "name": "python",
   "nbconvert_exporter": "python",
   "pygments_lexer": "ipython3",
   "version": "3.9.12"
  },
  "orig_nbformat": 4
 },
 "nbformat": 4,
 "nbformat_minor": 2
}
